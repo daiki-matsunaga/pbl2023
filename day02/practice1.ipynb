{
 "cells": [
  {
   "cell_type": "markdown",
   "id": "aa025e19-59de-411d-8d30-874b4f68e9a0",
   "metadata": {},
   "source": [
    "## **本ノートブックの内容**\n",
    "\n",
    "- PythonとC言語の主な違い\n",
    "- Pandasとは\n",
    "- データの追加 / テーブルのソート（Q1-1, Q1-2）\n",
    "- テーブルの結合（Q1-3）\n",
    "- 目標：Python/Pandasに慣れる\n",
    "\n",
    "授業でわからないことがある場合は，このドキュメントをヘルプとして利用してください．"
   ]
  },
  {
   "cell_type": "markdown",
   "id": "f58c5bf3-d899-4a9b-b235-288c8a9aec44",
   "metadata": {},
   "source": [
    "### **PythonとC言語の主な違い**\n",
    "\n",
    "- Pythonには型宣言が自動で行われる\n",
    "- 通常の配列をリスト（list）と呼ぶ\n",
    "- 1行コメントアウトは # （シャープ）\n",
    "- この授業では，とりあえずこの程度覚えておけば大丈夫です"
   ]
  },
  {
   "cell_type": "code",
   "execution_count": null,
   "id": "c39cb949-8197-43b0-a395-b34b56259872",
   "metadata": {},
   "outputs": [],
   "source": [
    "# 数字はそのまま入力\n",
    "# 文字列を入力したいときは シングルクオーテーション で囲う\n",
    "a = 1\n",
    "b = 1.1\n",
    "c = 'one'\n",
    "\n",
    "print(a, b, c)\n",
    "\n",
    "# シャープでコメントアウトとなりメモを記載できる"
   ]
  },
  {
   "cell_type": "code",
   "execution_count": null,
   "id": "0e268772-6054-459c-8727-0781157e569f",
   "metadata": {},
   "outputs": [],
   "source": [
    "# リストの宣言; リストは数字・文字が混ざってもよい\n",
    "d = [a, b, 2, 'two']\n",
    "\n",
    "# C言語と同様，要素は0番目から始まる\n",
    "print(d[0], d[1], d[2])\n",
    "print(d[3])"
   ]
  },
  {
   "cell_type": "markdown",
   "id": "b6d21072-c1ee-426e-842d-6cff878b2738",
   "metadata": {},
   "source": [
    "### **Pandasとは**\n",
    "pandasとは大規模な表データを扱うためのpythonのライブラリ．\n",
    "\n",
    "基本的な用語は以下の通り：\n",
    "- dataframe: 表そのもののこと．略してdfと呼ぶことが多い\n",
    "- row: 行\n",
    "- column: 列\n",
    "- index: テーブル左端の数字．行番号"
   ]
  },
  {
   "cell_type": "code",
   "execution_count": null,
   "id": "8cd276db-f573-4e76-917a-1933f8b4ba91",
   "metadata": {},
   "outputs": [],
   "source": [
    "# モジュールのimport\n",
    "import json\n",
    "import matplotlib.pyplot as plt\n",
    "import numpy as np\n",
    "import pandas as pd\n",
    "\n",
    "# csvファイルの読み込み\n",
    "df = pd.read_csv('https://raw.githubusercontent.com/daiki-matsunaga/pbl2023/main/day02/csv/month_en.csv')\n",
    "\n",
    "df # テーブルの表示"
   ]
  },
  {
   "cell_type": "markdown",
   "id": "1287f4d6-61d2-40c5-bb26-27416f704231",
   "metadata": {},
   "source": [
    "#### **Q1-1**． 12月を追加せよ  \n",
    "- ヒント1：`df = df.append({column名1：value1, column名2: value2}, ignore_index=True)` と入力するとデータを追加できる\n",
    "- ヒント2：数字と文字の使い分けに注意"
   ]
  },
  {
   "cell_type": "code",
   "execution_count": null,
   "id": "22f62f11-99e6-493a-93c6-12b9919f5aa1",
   "metadata": {},
   "outputs": [],
   "source": [
    "# df = df.append(ここに解答)\n",
    "\n",
    "df # テーブルの表示"
   ]
  },
  {
   "cell_type": "markdown",
   "id": "fac5b153-820b-44af-903c-08eb55003769",
   "metadata": {},
   "source": [
    "#### **Q1-2**．monthをkeyとしてテーブルをソートせよ\n",
    "- 備考：keyとは引数として呼ばれる列のこと\n",
    "- ヒント：`df = df.sort_values(key_name)`とすると列名key_nameの情報からテーブルをソートする"
   ]
  },
  {
   "cell_type": "code",
   "execution_count": null,
   "id": "f7ba9eab-4ad8-4adf-8534-2b296b9a2cff",
   "metadata": {},
   "outputs": [],
   "source": [
    "# df = df.sort_values(ここに解答)\n",
    "\n",
    "df # テーブルの表示"
   ]
  },
  {
   "cell_type": "markdown",
   "id": "77007cd5-c340-494e-ae3f-89d77ccf6540",
   "metadata": {},
   "source": [
    "### **テーブルの結合**  \n",
    "二つのテーブルを結合する．\n",
    "以下に二つ目の表を読み込み df2 に格納する．"
   ]
  },
  {
   "cell_type": "code",
   "execution_count": null,
   "id": "22a90b05-7cc7-4350-bd4b-4bd419a18fe5",
   "metadata": {},
   "outputs": [],
   "source": [
    "# 日本の月の名称を読み込みデータフレーム df2 に格納する\n",
    "df2 = pd.read_csv('https://raw.githubusercontent.com/daiki-matsunaga/pbl2023/main/day02/csv/month_jp.csv')\n",
    "\n",
    "df2 # テーブルの表示"
   ]
  },
  {
   "cell_type": "markdown",
   "id": "ff5d78eb-2f85-49c2-8e93-474d66a84805",
   "metadata": {},
   "source": [
    "#### **Q1-3**．dfとdf2を結合し，df3を作成せよ\n",
    "- ヒント：`df3 = pd.merge(df, df2, on='key_name')`とするとkey_nameを一致させる形で二つのデータフレームを結合しdf3を生成する"
   ]
  },
  {
   "cell_type": "code",
   "execution_count": null,
   "id": "9fd50d6e-2c6f-4e95-8d3e-ca8fb08a5e32",
   "metadata": {},
   "outputs": [],
   "source": [
    "#df3 = (ここに解答)\n",
    "\n",
    "df3 # テーブルの表示"
   ]
  }
 ],
 "metadata": {
  "kernelspec": {
   "display_name": "Python 3 (ipykernel)",
   "language": "python",
   "name": "python3"
  },
  "language_info": {
   "codemirror_mode": {
    "name": "ipython",
    "version": 3
   },
   "file_extension": ".py",
   "mimetype": "text/x-python",
   "name": "python",
   "nbconvert_exporter": "python",
   "pygments_lexer": "ipython3",
   "version": "3.10.6"
  }
 },
 "nbformat": 4,
 "nbformat_minor": 5
}
