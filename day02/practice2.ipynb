{
 "cells": [
  {
   "cell_type": "markdown",
   "metadata": {},
   "source": [
    "## **本ノートブックの内容**\n",
    "\n",
    "- データの抽出（Q2-1）\n",
    "- データ・グラフの表示（Q2-2，Q2-3）\n",
    "\n",
    "- 目標：Python/Pandasに慣れる\n",
    "\n",
    "授業でわからないことがある場合は，このドキュメントをヘルプとして利用してください．"
   ]
  },
  {
   "cell_type": "code",
   "execution_count": null,
   "metadata": {},
   "outputs": [],
   "source": [
    "# モジュールのimport\n",
    "import json\n",
    "import matplotlib.pyplot as plt\n",
    "import numpy as np\n",
    "import pandas as pd\n",
    "import datetime as dt\n",
    "import matplotlib.dates as mdate\n",
    "\n",
    "pd.set_option('display.max_columns', None) # pandasオプション：列データを全て表示\n",
    "\n",
    "# データフレームdfにOur World in Dataのデータを読み込む\n",
    "df = pd.read_json(\"https://covid.ourworldindata.org/data/owid-covid-data.json\")\n",
    "df = df[df.columns.drop(list(df.filter(regex='OWID')))] # OWIDデータを除外\n",
    "\n",
    "df"
   ]
  },
  {
   "cell_type": "code",
   "execution_count": null,
   "metadata": {},
   "outputs": [],
   "source": [
    "num_row = len(df) # row数の取得\n",
    "num_column = len(df.columns) # column数の取得\n",
    "\n",
    "print(num_row, num_column)"
   ]
  },
  {
   "cell_type": "code",
   "execution_count": null,
   "metadata": {
    "tags": []
   },
   "outputs": [],
   "source": [
    "df[\"JPN\"] # 一つの国のデータ; 3文字の国名コードがcolumn名になっている（例えばJPN，USA，DEU，GBRなど）"
   ]
  },
  {
   "cell_type": "code",
   "execution_count": null,
   "metadata": {},
   "outputs": [],
   "source": [
    "df[[\"JPN\", \"USA\"]] # 二つのcolumnを比較したいときは，column名のリストを引数にとる"
   ]
  },
  {
   "cell_type": "code",
   "execution_count": null,
   "metadata": {},
   "outputs": [],
   "source": [
    "df[\"JPN\"][\"population\"] # ある値を見たいときは配列の配列の形で参照する"
   ]
  },
  {
   "cell_type": "code",
   "execution_count": null,
   "metadata": {},
   "outputs": [],
   "source": [
    "df.T #テーブルを転置したいときは.Tを付ける"
   ]
  },
  {
   "cell_type": "code",
   "execution_count": null,
   "metadata": {},
   "outputs": [],
   "source": [
    "dfT = df.T # 以降，頻繁に使うので転置したデータフレームdfTを作成する\n",
    "\n",
    "dfT['continent'] == 'Asia' # column名で呼び出したデータに対して一致するかどうか表示"
   ]
  },
  {
   "cell_type": "code",
   "execution_count": null,
   "metadata": {
    "tags": []
   },
   "outputs": [],
   "source": [
    "dfT[dfT['continent'] == 'Asia'] # 上の条件式をそのままdfに入れると，該当条件の行を抽出できる（！）"
   ]
  },
  {
   "cell_type": "code",
   "execution_count": null,
   "metadata": {
    "tags": []
   },
   "outputs": [],
   "source": [
    "df['JPN']['data'] # 感染者のデータは data に格納されている"
   ]
  },
  {
   "cell_type": "code",
   "execution_count": null,
   "metadata": {
    "tags": []
   },
   "outputs": [],
   "source": [
    "df['JPN']['data'][0] # それぞれの日のデータがリストとしてアクセスできる"
   ]
  },
  {
   "cell_type": "code",
   "execution_count": null,
   "metadata": {
    "tags": []
   },
   "outputs": [],
   "source": [
    "df['JPN']['data'][100]['new_cases'] # 更に詳しく抽出したいときはkeyを記入"
   ]
  },
  {
   "cell_type": "code",
   "execution_count": null,
   "metadata": {},
   "outputs": [],
   "source": [
    "dfT.plot.scatter(x='population', y='median_age', logx=True) # グラフの表示"
   ]
  },
  {
   "cell_type": "markdown",
   "metadata": {},
   "source": [
    "#### **Q2-1**． イギリス・フランス・ドイツの国のデータを抽出し，テーブルとして表示せよ"
   ]
  },
  {
   "cell_type": "code",
   "execution_count": null,
   "metadata": {},
   "outputs": [],
   "source": [
    "# A2-1\n"
   ]
  },
  {
   "cell_type": "markdown",
   "metadata": {},
   "source": [
    "#### **Q2-2**． 横軸に「一人あたりのGDP（gdp_per_capita）」，縦軸に「平均寿命（life_expectancy）」とし，両対数グラフで表示せよ"
   ]
  },
  {
   "cell_type": "code",
   "execution_count": null,
   "metadata": {},
   "outputs": [],
   "source": [
    "# A2-2\n"
   ]
  },
  {
   "cell_type": "markdown",
   "metadata": {},
   "source": [
    "#### **Q2-3**． ヨーロッパの国の数をカウントせよ"
   ]
  },
  {
   "cell_type": "code",
   "execution_count": null,
   "metadata": {},
   "outputs": [],
   "source": [
    "# A2-3\n"
   ]
  },
  {
   "cell_type": "markdown",
   "metadata": {},
   "source": [
    "#### **Q2-4**． 人口順にテーブルをソートせよ"
   ]
  },
  {
   "cell_type": "code",
   "execution_count": null,
   "metadata": {},
   "outputs": [],
   "source": [
    "# A2-4\n"
   ]
  },
  {
   "cell_type": "markdown",
   "metadata": {},
   "source": [
    "#### **Q2-5**． 65歳以上（aged_65_older）が人口の2割以上を占める国を表示せよ"
   ]
  },
  {
   "cell_type": "code",
   "execution_count": null,
   "metadata": {},
   "outputs": [],
   "source": [
    "# A2-5\n"
   ]
  },
  {
   "cell_type": "markdown",
   "metadata": {},
   "source": [
    "#### **Q2-6**． 最新のデータより100日前の日本の新規感染者数（new_cases）を表示せよ\n",
    "ヒント：リストのうち，後ろから数えた番号のものを取得するときは...？"
   ]
  },
  {
   "cell_type": "code",
   "execution_count": null,
   "metadata": {},
   "outputs": [],
   "source": [
    "# A2-6\n"
   ]
  },
  {
   "cell_type": "markdown",
   "metadata": {},
   "source": [
    "#### **Q2-7**． 難：日本の人口を超える国をテーブルとして表示せよ\n",
    "ヒント：日本の人口を取得して，一度変数に格納すると良い"
   ]
  },
  {
   "cell_type": "code",
   "execution_count": null,
   "metadata": {},
   "outputs": [],
   "source": [
    "# A2-7\n"
   ]
  },
  {
   "cell_type": "markdown",
   "metadata": {},
   "source": [
    "#### **Q2-8**． 難：ヨーロッパの国を抽出し，国民の平均年齢（median_age）でソートせよ"
   ]
  },
  {
   "cell_type": "code",
   "execution_count": null,
   "metadata": {
    "tags": []
   },
   "outputs": [],
   "source": [
    "# A2-8\n"
   ]
  },
  {
   "cell_type": "markdown",
   "metadata": {},
   "source": [
    "#### **Q2-9**． 難：「日本より人口が多い」かつ「日本より人口密度が高い」国を表示せよ\n",
    "ヒント：複数条件の論理積が必要になる．教えていないので，興味があれば調べて解答してみること．"
   ]
  },
  {
   "cell_type": "code",
   "execution_count": 25,
   "metadata": {},
   "outputs": [],
   "source": [
    "# A2-9\n"
   ]
  }
 ],
 "metadata": {
  "kernelspec": {
   "display_name": "Python 3 (ipykernel)",
   "language": "python",
   "name": "python3"
  },
  "language_info": {
   "codemirror_mode": {
    "name": "ipython",
    "version": 3
   },
   "file_extension": ".py",
   "mimetype": "text/x-python",
   "name": "python",
   "nbconvert_exporter": "python",
   "pygments_lexer": "ipython3",
   "version": "3.10.6"
  }
 },
 "nbformat": 4,
 "nbformat_minor": 4
}
