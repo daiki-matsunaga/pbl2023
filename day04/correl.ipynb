{
 "cells": [
  {
   "cell_type": "code",
   "execution_count": null,
   "id": "c18b96f2",
   "metadata": {},
   "outputs": [],
   "source": [
    "import json\n",
    "import matplotlib.pyplot as plt\n",
    "import numpy as np\n",
    "import pandas as pd\n",
    "import datetime as dt\n",
    "import matplotlib.dates as mdates\n",
    "\n",
    "pd.set_option('display.max_columns', None) # pandasオプション：列データを全て表示\n",
    "\n",
    "# データフレームdfにOur World in Dataのデータを読み込む\n",
    "df = pd.read_json('https://covid.ourworldindata.org/data/owid-covid-data.json')\n",
    "df = df[df.columns.drop(list(df.filter(regex='OWID')))] # OWIDデータを除外"
   ]
  },
  {
   "cell_type": "code",
   "execution_count": null,
   "id": "413abecc",
   "metadata": {},
   "outputs": [],
   "source": [
    "# 解析対象の国名コードを指定\n",
    "country_code = 'JPN'\n",
    "\n",
    "# 国のデータをcountry1へ格納\n",
    "country1 = pd.DataFrame(df[country_code]['data'])\n",
    "country1['date'] = pd.to_datetime(country1['date']) # 日付フォーマットを一括変換\n",
    "country1.set_index('date',inplace = True) # dateをindexに設定\n",
    "\n",
    "# 日にちデータの表示\n",
    "country1"
   ]
  },
  {
   "cell_type": "code",
   "execution_count": null,
   "id": "b8bea172",
   "metadata": {},
   "outputs": [],
   "source": [
    "# 解析対象のkeyを指定\n",
    "key='new_cases'\n",
    "\n",
    "# keyの時系列データの表示\n",
    "ax = country1.plot(y=key)\n",
    "ax.set_title(df[country_code]['location'])"
   ]
  },
  {
   "cell_type": "code",
   "execution_count": null,
   "id": "9cc81efc",
   "metadata": {},
   "outputs": [],
   "source": [
    "# keyに関して欠損値NaNを除いたデータフレームcdataを作り直す\n",
    "cdata = country1.dropna(subset = [key])\n",
    "dates = cdata.index\n",
    "\n",
    "value1 = []\n",
    "value2 = []\n",
    "\n",
    "# 何日後に対する相関か\n",
    "diffDay = 0\n",
    "\n",
    "# i_dayをデータ分だけループする\n",
    "for i_day in range(len(dates)-diffDay):\n",
    "    \n",
    "    # j_dayはi_dayからdiffDayずらしたもの\n",
    "    j_day = i_day + diffDay\n",
    "    \n",
    "    # データを格納する\n",
    "    value1.append(cdata[key][i_day])\n",
    "    value2.append(cdata[key][i_day+diffDay])\n",
    "\n",
    "# 相関係数を算出する\n",
    "print('相関係数:', np.corrcoef(value1, value2)[0, 1])\n",
    "\n",
    "fig, ax = plt.subplots()\n",
    "ax.plot(value1, value2, 'o')\n",
    "ax.set_aspect('equal', adjustable='box')\n",
    "ax.set_xlabel('i_day')\n",
    "ax.set_ylabel('i_day + diffDay')\n",
    "plt.show()\n",
    "    "
   ]
  }
 ],
 "metadata": {
  "kernelspec": {
   "display_name": "Python 3 (ipykernel)",
   "language": "python",
   "name": "python3"
  },
  "language_info": {
   "codemirror_mode": {
    "name": "ipython",
    "version": 3
   },
   "file_extension": ".py",
   "mimetype": "text/x-python",
   "name": "python",
   "nbconvert_exporter": "python",
   "pygments_lexer": "ipython3",
   "version": "3.10.6"
  }
 },
 "nbformat": 4,
 "nbformat_minor": 5
}
