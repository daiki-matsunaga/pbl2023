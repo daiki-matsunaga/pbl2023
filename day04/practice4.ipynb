{
 "cells": [
  {
   "cell_type": "markdown",
   "id": "1c8b1bc0-98d6-4975-b343-8aa33224de5f",
   "metadata": {},
   "source": [
    "## **本ノートブックの内容**\n",
    "\n",
    "- 時系列データの取得\n",
    "- 時系列データの期間指定\n",
    "- 時系列データの比較"
   ]
  },
  {
   "cell_type": "code",
   "execution_count": null,
   "id": "c18b96f2",
   "metadata": {},
   "outputs": [],
   "source": [
    "import json\n",
    "import matplotlib.pyplot as plt\n",
    "import numpy as np\n",
    "import pandas as pd\n",
    "import datetime as dt\n",
    "\n",
    "pd.set_option('display.max_columns', None) # pandasオプション：列データを全て表示\n",
    "\n",
    "# データフレームdfにOur World in Dataのデータを読み込む\n",
    "df = pd.read_json(\"https://covid.ourworldindata.org/data/owid-covid-data.json\")\n",
    "df = df[df.columns.drop(list(df.filter(regex='OWID')))] # OWIDデータを除外"
   ]
  },
  {
   "cell_type": "code",
   "execution_count": null,
   "id": "413abecc",
   "metadata": {},
   "outputs": [],
   "source": [
    "# 解析対象の国名コードを指定\n",
    "country_code1 = 'USA'\n",
    "\n",
    "# 国のデータをcountry1へ格納\n",
    "country1 = pd.DataFrame(df[country_code1]['data'])\n",
    "country1['date'] = pd.to_datetime(country1['date']) # 日付フォーマットを一括変換\n",
    "country1.set_index('date',inplace = True) # dateをindexに設定\n",
    "\n",
    "# 日にちデータの表示\n",
    "country1\n",
    "\n",
    "# 行に日にち，列にデータ名となっていることを確認せよ"
   ]
  },
  {
   "cell_type": "code",
   "execution_count": null,
   "id": "b8bea172",
   "metadata": {},
   "outputs": [],
   "source": [
    "# country1が有するcolumn情報の確認\n",
    "country1.info()"
   ]
  },
  {
   "cell_type": "code",
   "execution_count": null,
   "id": "f91682bf-9907-4037-a754-b77f4d691b25",
   "metadata": {},
   "outputs": [],
   "source": [
    "# データの可視化\n",
    "# y軸に'new_cases'（新規感染者数）\n",
    "country1.plot(y='new_cases')"
   ]
  },
  {
   "cell_type": "code",
   "execution_count": null,
   "id": "06c88e8d-25e7-44ed-a385-f42e2c869967",
   "metadata": {},
   "outputs": [],
   "source": [
    "# このテーブルではrow名（行名）に日にち（datetime形式）を採用している\n",
    "country1.index"
   ]
  },
  {
   "cell_type": "code",
   "execution_count": null,
   "id": "5539ad89-72d1-4515-bd0b-49171f3951d0",
   "metadata": {},
   "outputs": [],
   "source": [
    "# （データベースは一度さておき...）datetime形式について\n",
    "# 日にちはdatetime形式で書かれており，日時の情報を保持する便利な形式\n",
    "print('1st date:', country1.index[100])\n",
    "print('2nd date:', country1.index[107])"
   ]
  },
  {
   "cell_type": "code",
   "execution_count": null,
   "id": "85575763-a20c-4108-bed9-dd5827f6b76f",
   "metadata": {},
   "outputs": [],
   "source": [
    "# year・month・dayと付すと年月日を配列形式で取得できる\n",
    "country1.index.year"
   ]
  },
  {
   "cell_type": "code",
   "execution_count": null,
   "id": "53e233ed-7512-4b0d-b36d-a341d9e2324e",
   "metadata": {},
   "outputs": [],
   "source": [
    "# 差分を計算することもできる\n",
    "print('difference:', country1.index[107] - country1.index[100])\n",
    "print('difference:', (country1.index[107] - country1.index[100]).days) # 日にちの差分のみ表示したい場合 .days を付す"
   ]
  },
  {
   "cell_type": "code",
   "execution_count": null,
   "id": "dcf63346-99f9-4de9-9cfb-ac8af80f4004",
   "metadata": {},
   "outputs": [],
   "source": [
    "# 複数のデータを比べたいとき\n",
    "# 備考：列名に'smoothed'と付く場合は7日間平均\n",
    "key1 = 'new_cases'\n",
    "key2 = 'new_cases_smoothed'\n",
    "blue = '#1f77b4'\n",
    "orange = '#ff7f0e'\n",
    "\n",
    "# keyの時系列データの表示\n",
    "ax = country1.plot(y=key1, c=blue, label=key1)\n",
    "country1.plot(y=key2, ax=ax, c=orange, label=key2)"
   ]
  },
  {
   "cell_type": "code",
   "execution_count": null,
   "id": "c53b354a-95f6-4139-96cc-3dba80c655fd",
   "metadata": {},
   "outputs": [],
   "source": [
    "# 複数のデータを比べたいとき，2項目の桁数が異なり比較しにくい場合：\n",
    "# 2つ目の項目の軸を右側に設定することにより比較すると良い\n",
    "key1 = 'new_cases'\n",
    "key2 = 'new_deaths'\n",
    "blue = '#1f77b4'\n",
    "orange = '#ff7f0e'\n",
    "\n",
    "# keyの時系列データの表示\n",
    "ax1 = country1.plot(y=key1, c=blue, legend=False)\n",
    "ax2 = ax1.twinx() # ax2はx軸を共有するが，y軸は右側を使う\n",
    "country1.plot(y=key2, ax=ax2, c=orange, legend=False)\n",
    "\n",
    "ax1.set_ylabel(key1, color=blue)\n",
    "ax2.set_ylabel(key2, color=orange)\n",
    "plt.show()"
   ]
  },
  {
   "cell_type": "code",
   "execution_count": null,
   "id": "f3427000-c653-42c4-a3d1-e80aac7f4077",
   "metadata": {},
   "outputs": [],
   "source": [
    "# 範囲指定\n",
    "# datetime形式で開始・終了の日にちを定める\n",
    "date_from = dt.datetime(2021, 10, 1)\n",
    "date_to = dt.datetime(2022, 4, 1)\n",
    "\n",
    "# dfの中から該当部分だけを抜き出し，そのまま可視化する\n",
    "country1[(date_from < country1.index) & (country1.index < date_to)].plot(y='new_cases_smoothed')"
   ]
  },
  {
   "cell_type": "code",
   "execution_count": null,
   "id": "0e2c8a27-3d9a-412d-b44c-affc63dbb219",
   "metadata": {},
   "outputs": [],
   "source": [
    "# 複数国の比較\n",
    "# 二国目を追加\n",
    "country_code2 = 'FRA'\n",
    "\n",
    "# 国のデータをcountry2へ格納\n",
    "country2= pd.DataFrame(df[country_code2]['data'])\n",
    "country2['date'] = pd.to_datetime(country2['date']) # 日付フォーマットを一括変換\n",
    "country2.set_index('date',inplace = True) # dateをindexに設定\n",
    "\n",
    "ax = country1.plot(y='new_cases', label=country_code1)\n",
    "country2.plot(y='new_cases', ax=ax, label=country_code2)"
   ]
  },
  {
   "cell_type": "code",
   "execution_count": null,
   "id": "a16c98ff-08d5-4407-a18c-e480fa186590",
   "metadata": {},
   "outputs": [],
   "source": [
    "# 年ごとのデータの抽出\n",
    "df2020 = country1[country1.index.year == 2020]\n",
    "df2021 = country1[country1.index.year == 2021]\n",
    "df2022 = country1[country1.index.year == 2022]\n",
    "df2023 = country1[country1.index.year == 2023]\n",
    "\n",
    "# 新規死者数(new_deaths)について色分けして表示\n",
    "key = 'new_deaths'\n",
    "ax = df2020.plot(y=key, label='2020')\n",
    "df2021.plot(y=key, ax=ax, label='2021')\n",
    "df2022.plot(y=key, ax=ax, label='2022')\n",
    "df2023.plot(y=key, ax=ax, label='2023')"
   ]
  },
  {
   "cell_type": "code",
   "execution_count": null,
   "id": "dfcd2adb-615f-421e-9fea-08e39a952caf",
   "metadata": {},
   "outputs": [],
   "source": [
    "# 上のグラフについて，各年の同時期の感染傾向を比較したい...\n",
    "# ただ，datetime形式に年の情報がついているため，横軸に月・日のみで描くことができない\n",
    "\n",
    "# 仕方ないので，indexのdatetimeの情報のうち，月・日だけを抜き出し新たに'day'と呼ばれるcolumnの作成\n",
    "country1['day'] = country1.index.strftime('%m-%d')\n",
    "\n",
    "# 年ごとのデータを改めて抽出\n",
    "df2020 = country1[country1.index.year == 2020]\n",
    "df2021 = country1[country1.index.year == 2021]\n",
    "df2022 = country1[country1.index.year == 2022]\n",
    "df2023 = country1[country1.index.year == 2023]\n",
    "\n",
    "# 新規死者数(new_deaths)について色分けして表示\n",
    "# ただし，x軸は'day'\n",
    "key = 'new_deaths_smoothed'\n",
    "ax = df2020.plot(x='day', y=key, label='2020')\n",
    "df2021.plot(x='day', y=key, ax=ax, label='2021')\n",
    "df2022.plot(x='day', y=key, ax=ax, label='2022')\n",
    "df2023.plot(x='day', y=key, ax=ax, label='2023')"
   ]
  },
  {
   "cell_type": "markdown",
   "id": "bd915232-c526-4d04-abf4-6b3761ef07b7",
   "metadata": {},
   "source": [
    "#### **Q4-1**． 日本のデータについて：記録上の最初の日付と，最後の日の日付はいつか．また最初・最後の間の日数をカウントせよ．"
   ]
  },
  {
   "cell_type": "code",
   "execution_count": 50,
   "id": "04ad9abe-ab86-4e58-b3aa-cdb0047d8346",
   "metadata": {},
   "outputs": [],
   "source": [
    "# A4-1\n"
   ]
  },
  {
   "cell_type": "markdown",
   "id": "ed946cd1-8c7f-44a4-b0ff-7c3a3fd525f9",
   "metadata": {},
   "source": [
    "#### **Q4-2**． 日本のデータについて：新規感染者数（new_cases）は何日前からデータが存在するか"
   ]
  },
  {
   "cell_type": "code",
   "execution_count": 49,
   "id": "7f779a40-774e-4973-a7ad-e00361f01cdf",
   "metadata": {},
   "outputs": [],
   "source": [
    "# A4-2\n"
   ]
  },
  {
   "cell_type": "markdown",
   "id": "8f0f57c1-47fe-4c13-b8ff-49851690c147",
   "metadata": {},
   "source": [
    "#### **Q4-3**． 日本のデータについて：左軸に新規感染者数（7日間平均），右軸に新規ワクチン接種数（7日間平均）をとりグラフとして可視化せよ"
   ]
  },
  {
   "cell_type": "code",
   "execution_count": 48,
   "id": "a9d72403-b579-445e-94a1-ed346da38d66",
   "metadata": {},
   "outputs": [],
   "source": [
    "# A-3\n"
   ]
  },
  {
   "cell_type": "markdown",
   "id": "42417412-858e-48fc-a139-530c69803bfb",
   "metadata": {},
   "source": [
    "#### **Q4-4**． 日本のデータについて：第7波（R4.7.1～R4.9.30; 厚生労働省定義）のデータを抜き出して，新規感染者数を可視化せよ"
   ]
  },
  {
   "cell_type": "code",
   "execution_count": 47,
   "id": "30a5e049-934b-441e-8600-6517314e37b5",
   "metadata": {},
   "outputs": [],
   "source": [
    "# A4-4\n"
   ]
  },
  {
   "cell_type": "markdown",
   "id": "4956c8bc-606d-4751-a2e2-8237ac0868ac",
   "metadata": {},
   "source": [
    "#### **Q4-5**． 日本のデータについて：第7波（R4.7.1～R4.9.30; 厚生労働省定義）の時系列データより，この時期の総感染者数を算出せよ\n",
    "ヒント：対象の列に対する総和を求めるには `df['column_name'].sum()`"
   ]
  },
  {
   "cell_type": "code",
   "execution_count": 46,
   "id": "9ccbc019-0d0c-49bb-9b33-a4e9b1e9df95",
   "metadata": {},
   "outputs": [],
   "source": [
    "# A4-5\n"
   ]
  },
  {
   "cell_type": "markdown",
   "id": "92d27426-2551-4b24-9d2a-bd44a70b6b31",
   "metadata": {},
   "source": [
    "#### **Q4-6**． 日本の他に一つ国を選び，総感染者数('total_cases')を同じグラフに描き推移を比較せよ"
   ]
  },
  {
   "cell_type": "code",
   "execution_count": 44,
   "id": "a94e8492-c1b8-4358-a8c4-3ddffa076f39",
   "metadata": {},
   "outputs": [],
   "source": [
    "# A4-6\n"
   ]
  },
  {
   "cell_type": "markdown",
   "id": "ce1e288e-b2a8-4a71-9703-836df6ba021f",
   "metadata": {},
   "source": [
    "#### **Q4-7**． 日本のデータについて：2020-2023年の月・日の新規感染者数のデータを重ねて表示し，季節ごとの傾向があるかを確認せよ"
   ]
  },
  {
   "cell_type": "code",
   "execution_count": 43,
   "id": "cb080aef-e4ab-4b2f-9052-8d3443c8b2e7",
   "metadata": {},
   "outputs": [],
   "source": [
    "# A4-7\n"
   ]
  },
  {
   "cell_type": "markdown",
   "id": "5799a1ca-e323-449a-82ad-6e1f64ae7eff",
   "metadata": {},
   "source": [
    "#### **Q4-8**． 難：Q4-6と同じように2カ国の総感染者数の推移をグラフで可視化せよ．ただし，縦軸は総感染者数を総人口で割った割合とする\n",
    "ヒント：ある列に係数coeffを掛けたいから表示したいとき，次のような操作ができる `(df['column_name']*coeff).plot()`"
   ]
  },
  {
   "cell_type": "code",
   "execution_count": null,
   "id": "5df9e6fe-dba0-49ce-8edf-6e628884e6ec",
   "metadata": {},
   "outputs": [],
   "source": [
    "# A4-8\n"
   ]
  },
  {
   "cell_type": "markdown",
   "id": "5f20b4b9-b3c6-4bb7-a3b7-b7901d3a7d88",
   "metadata": {
    "tags": []
   },
   "source": [
    "#### **Q4-9**． 難：次のURLの定義に従って以下の問に答えよ．https://www.mhlw.go.jp/content/10900000/001010896.pdf\n",
    "1. 第3波・第5波・第6波・第7波の期間をdataframeとしてそれぞれ抽出し，総感染者数を比較せよ\n",
    "2. 日本の全期間の新規感染者数のグラフを表示した上で，第3波・第5波・第6波・第7波に該当する線を色を変えて可視化せよ\n",
    "3. 難：横軸に波の開始からの経過日，縦軸に総感染者数を表示し，4つの波に類似性があるか比較せよ"
   ]
  },
  {
   "cell_type": "code",
   "execution_count": null,
   "id": "0be54929-3243-4e0a-8ef1-1854b585365f",
   "metadata": {},
   "outputs": [],
   "source": [
    "# A4-9\n"
   ]
  }
 ],
 "metadata": {
  "kernelspec": {
   "display_name": "Python 3 (ipykernel)",
   "language": "python",
   "name": "python3"
  },
  "language_info": {
   "codemirror_mode": {
    "name": "ipython",
    "version": 3
   },
   "file_extension": ".py",
   "mimetype": "text/x-python",
   "name": "python",
   "nbconvert_exporter": "python",
   "pygments_lexer": "ipython3",
   "version": "3.10.10"
  }
 },
 "nbformat": 4,
 "nbformat_minor": 5
}
