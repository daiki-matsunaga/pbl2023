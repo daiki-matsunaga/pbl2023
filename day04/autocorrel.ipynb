{
 "cells": [
  {
   "cell_type": "code",
   "execution_count": null,
   "id": "c18b96f2",
   "metadata": {},
   "outputs": [],
   "source": [
    "import json\n",
    "import matplotlib.pyplot as plt\n",
    "import numpy as np\n",
    "import pandas as pd\n",
    "import datetime as dt\n",
    "import matplotlib.dates as mdates\n",
    "\n",
    "pd.set_option('display.max_columns', None) # pandasオプション：列データを全て表示\n",
    "\n",
    "# データフレームdfにOur World in Dataのデータを読み込む\n",
    "df = pd.read_json('https://covid.ourworldindata.org/data/owid-covid-data.json')\n",
    "df = df[df.columns.drop(list(df.filter(regex='OWID')))] # OWIDデータを除外"
   ]
  },
  {
   "cell_type": "code",
   "execution_count": null,
   "id": "413abecc",
   "metadata": {},
   "outputs": [],
   "source": [
    "# 解析対象の国名コードを指定\n",
    "country_code = 'USA'\n",
    "\n",
    "# 国のデータをcountry1へ格納\n",
    "country1 = pd.DataFrame(df[country_code]['data'])\n",
    "country1['date'] = pd.to_datetime(country1['date']) # 日付フォーマットを一括変換\n",
    "country1.set_index('date',inplace = True) # dateをindexに設定\n",
    "\n",
    "# 日にちデータの表示\n",
    "country1"
   ]
  },
  {
   "cell_type": "code",
   "execution_count": null,
   "id": "b8bea172",
   "metadata": {},
   "outputs": [],
   "source": [
    "# 国が持つ日にちデータのkey一覧\n",
    "country1.columns"
   ]
  },
  {
   "cell_type": "code",
   "execution_count": null,
   "id": "9cc81efc",
   "metadata": {},
   "outputs": [],
   "source": [
    "# 解析対象のkeyを指定\n",
    "key='new_cases'\n",
    "\n",
    "# keyの時系列データの表示\n",
    "ax = country1.plot(y=key)\n",
    "ax.set_title(df[country_code]['location'])"
   ]
  },
  {
   "cell_type": "code",
   "execution_count": null,
   "id": "175b119b",
   "metadata": {},
   "outputs": [],
   "source": [
    "# keyに関して欠損値NaNを除いたデータフレームcdataを作り直す\n",
    "cdata = country1.dropna(subset = [key])\n",
    "dates = cdata.index\n",
    "\n",
    "# keyの平均値・分散値\n",
    "v_mean = cdata[key].mean()\n",
    "v_var  = cdata[key].var(ddof=0)\n",
    "\n",
    "# 相関の計算に必要なデータの抽出\n",
    "numDates = len(dates)\n",
    "maxDiffDay = (dates[-1] - dates[0]).days + 1\n",
    "correlSize = 2*(maxDiffDay - 1) + 1\n",
    "diffs = np.arange(- (maxDiffDay - 1), maxDiffDay)\n",
    "correlations = np.zeros([correlSize])\n",
    "counts = np.zeros([correlSize])\n",
    "\n",
    "print('記録のある日数: ', numDates)\n",
    "print('記録の最初の日: ', dates[0].date())\n",
    "print('記録の最後の日: ', dates[-1].date())\n",
    "print('最初の日と最後の日の差: ', maxDiffDay)\n",
    "print('確保する配列の要素数: ', correlSize)\n",
    "\n",
    "# 自己相関の計算\n",
    "for i_day in range(numDates):\n",
    "    for j_day in range(numDates):\n",
    "        \n",
    "        # i_dayとj_dayを取り出し日の差をdiffDayに格納\n",
    "        # （maxDiffDay - 1）は配列の0スタートのためのオフセット\n",
    "        diffDay = (dates[j_day] - dates[i_day]).days + (maxDiffDay - 1)\n",
    "\n",
    "        # 自己相関を計算\n",
    "        correlations[diffDay] += (cdata[key][i_day] - v_mean)*(cdata[key][j_day] - v_mean)\n",
    "        \n",
    "        # 足した回数を記録\n",
    "        counts[diffDay] += 1\n",
    "\n",
    "# 自己相関を分散*足した回数で割る\n",
    "correlations /= v_var*counts\n",
    "\n",
    "print('===== 自己相関：計算完了 ===== ')"
   ]
  },
  {
   "cell_type": "code",
   "execution_count": null,
   "id": "eb7ddd54",
   "metadata": {},
   "outputs": [],
   "source": [
    "# グラフを表示する範囲 [diffDayMin, diffDayMax]\n",
    "diffDayMax = +200\n",
    "diffDayMin = -200\n",
    "\n",
    "# グラフを表示する範囲から最大値の場所を抜き出す\n",
    "diffs = np.array(diffs)\n",
    "correlations = np.array(correlations)\n",
    "cliped_diffs = diffs[(diffs > diffDayMin) & (diffs < diffDayMax)]\n",
    "cliped_correlations = correlations[(diffs > diffDayMin) & (diffs < diffDayMax)]\n",
    "max_day    = cliped_diffs[cliped_correlations.argmax()]\n",
    "max_correl = cliped_correlations[cliped_correlations.argmax()]\n",
    "\n",
    "print('最大の相関 %d 日後：相関値 %.3f' % (max_day, max_correl))\n",
    "\n",
    "# グラフの表示\n",
    "fig, ax = plt.subplots()\n",
    "ax.set_title(df[country_code]['location'])\n",
    "ax.plot(diffs, correlations)\n",
    "ax.plot(max_day, max_correl, 'ro')\n",
    "ax.set_xlabel('diff_day')\n",
    "ax.set_ylabel('correlation')\n",
    "ax.set_xlim([diffDayMin, diffDayMax])\n",
    "plt.show()"
   ]
  },
  {
   "cell_type": "code",
   "execution_count": null,
   "id": "a6e0f055",
   "metadata": {},
   "outputs": [],
   "source": []
  }
 ],
 "metadata": {
  "kernelspec": {
   "display_name": "Python 3 (ipykernel)",
   "language": "python",
   "name": "python3"
  },
  "language_info": {
   "codemirror_mode": {
    "name": "ipython",
    "version": 3
   },
   "file_extension": ".py",
   "mimetype": "text/x-python",
   "name": "python",
   "nbconvert_exporter": "python",
   "pygments_lexer": "ipython3",
   "version": "3.10.6"
  }
 },
 "nbformat": 4,
 "nbformat_minor": 5
}
