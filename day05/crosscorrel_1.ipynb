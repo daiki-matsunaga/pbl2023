{
 "cells": [
  {
   "cell_type": "code",
   "execution_count": null,
   "id": "c18b96f2",
   "metadata": {},
   "outputs": [],
   "source": [
    "import json\n",
    "import matplotlib.pyplot as plt\n",
    "import numpy as np\n",
    "import pandas as pd\n",
    "import datetime as dt\n",
    "import matplotlib.dates as mdates\n",
    "\n",
    "pd.set_option('display.max_columns', None) # pandasオプション：列データを全て表示\n",
    "\n",
    "# データフレームdfにOur World in Dataのデータを読み込む\n",
    "df = pd.read_json('https://covid.ourworldindata.org/data/owid-covid-data.json')\n",
    "df = df[df.columns.drop(list(df.filter(regex='OWID')))] # OWIDデータを除外"
   ]
  },
  {
   "cell_type": "code",
   "execution_count": null,
   "id": "413abecc",
   "metadata": {},
   "outputs": [],
   "source": [
    "# 解析対象の国名コードを指定\n",
    "country_code = 'USA'\n",
    "\n",
    "# 国のデータをcountry1へ格納\n",
    "country1 = pd.DataFrame(df[country_code]['data'])\n",
    "country1['date'] = pd.to_datetime(country1['date']) # 日付フォーマットを一括変換\n",
    "country1.set_index('date',inplace = True) # dateをindexに設定\n",
    "\n",
    "# 日にちデータの表示\n",
    "country1"
   ]
  },
  {
   "cell_type": "code",
   "execution_count": null,
   "id": "b8bea172",
   "metadata": {},
   "outputs": [],
   "source": [
    "# 国が持つ日にちデータのkey一覧\n",
    "country1.columns"
   ]
  },
  {
   "cell_type": "code",
   "execution_count": null,
   "id": "9cc81efc",
   "metadata": {},
   "outputs": [],
   "source": [
    "# 解析対象のkeyを指定\n",
    "key1='new_cases_smoothed'\n",
    "key2='new_deaths_smoothed'\n",
    "\n",
    "blue = '#1f77b4'\n",
    "orange = '#ff7f0e'\n",
    "\n",
    "# keyの時系列データの表示\n",
    "ax1 = country1.plot(y=key1, c=blue, legend=False)\n",
    "ax2 = ax1.twinx() # ax2をy2軸へ\n",
    "country1.plot(y=key2, ax=ax2, c=orange, legend=False)\n",
    "ax1.set_title(df[country_code]['location'])\n",
    "ax1.set_ylabel(key1, color=blue)\n",
    "ax2.set_ylabel(key2, color=orange)"
   ]
  },
  {
   "cell_type": "code",
   "execution_count": null,
   "id": "d151fe95",
   "metadata": {},
   "outputs": [],
   "source": [
    "# keyに関して欠損値NaNを除いたデータフレームcdataを作り直す\n",
    "cdata = country1.dropna(subset = [key1,key2])\n",
    "dates = cdata.index\n",
    "\n",
    "# keyの平均値・分散値\n",
    "v1_mean = cdata[key1].mean()\n",
    "v1_std  = cdata[key1].std(ddof=0)\n",
    "v2_mean = cdata[key2].mean()\n",
    "v2_std  = cdata[key2].std(ddof=0)\n",
    "\n",
    "# 相関の計算に必要なデータの抽出\n",
    "numDates = len(dates)\n",
    "maxDiffDay = (dates[-1] - dates[0]).days + 1\n",
    "correlSize = 2*(maxDiffDay - 1) + 1\n",
    "diffs = np.arange(- (maxDiffDay - 1), maxDiffDay)\n",
    "correlations = np.zeros([correlSize])\n",
    "counts = np.zeros([correlSize])\n",
    "\n",
    "print('記録のある日数: ', numDates)\n",
    "print('記録の最初の日: ', dates[0].date())\n",
    "print('記録の最後の日: ', dates[-1].date())\n",
    "print('最初の日と最後の日の差: ', maxDiffDay)\n",
    "print('確保する配列の要素数: ', correlSize)\n",
    "\n",
    "# 相互相関の計算\n",
    "for i_day in range(numDates):\n",
    "    for j_day in range(numDates):\n",
    "        \n",
    "        # i_dayとj_dayを取り出し日の差をdiffDayに格納\n",
    "        # （maxDiffDay - 1）は配列の0スタートのためのオフセット\n",
    "        diffDay = (dates[j_day] - dates[i_day]).days + (maxDiffDay - 1)\n",
    "\n",
    "        # 相互相関を計算\n",
    "        correlations[diffDay] += (cdata[key1][i_day] - v1_mean)*(cdata[key2][j_day] - v2_mean)\n",
    "        \n",
    "        # 足した回数を記録\n",
    "        counts[diffDay] += 1\n",
    "\n",
    "# 相互相関をkey1の標準偏差*key2の標準偏差*足した回数で割る\n",
    "correlations /= v1_std*v2_std*counts\n",
    "\n",
    "print('===== 相互相関：計算完了 ===== ')"
   ]
  },
  {
   "cell_type": "code",
   "execution_count": null,
   "id": "175b119b",
   "metadata": {},
   "outputs": [],
   "source": [
    "# グラフを表示する範囲 [diffDayMin, diffDayMax]\n",
    "diffDayMax = +200\n",
    "diffDayMin = -200\n",
    "\n",
    "# グラフを表示する範囲から最大値の場所を抜き出す\n",
    "diffs = np.array(diffs)\n",
    "correlations = np.array(correlations)\n",
    "cliped_diffs = diffs[(diffs > diffDayMin) & (diffs < diffDayMax)]\n",
    "cliped_correlations = correlations[(diffs > diffDayMin) & (diffs < diffDayMax)]\n",
    "max_day    = cliped_diffs[cliped_correlations.argmax()]\n",
    "max_correl = cliped_correlations[cliped_correlations.argmax()]\n",
    "\n",
    "print('最大の相関 %d 日後：相関値 %.3f' % (max_day, max_correl))\n",
    "\n",
    "# グラフの表示\n",
    "fig, ax = plt.subplots()\n",
    "ax.set_title(df[country_code]['location'])\n",
    "ax.plot(diffs, correlations)\n",
    "ax.plot(max_day, max_correl, 'ro')\n",
    "ax.set_xlabel('diff_day')\n",
    "ax.set_ylabel('correlation')\n",
    "ax.set_xlim([diffDayMin, diffDayMax])\n",
    "plt.show()"
   ]
  }
 ],
 "metadata": {
  "kernelspec": {
   "display_name": "Python 3 (ipykernel)",
   "language": "python",
   "name": "python3"
  },
  "language_info": {
   "codemirror_mode": {
    "name": "ipython",
    "version": 3
   },
   "file_extension": ".py",
   "mimetype": "text/x-python",
   "name": "python",
   "nbconvert_exporter": "python",
   "pygments_lexer": "ipython3",
   "version": "3.10.6"
  }
 },
 "nbformat": 4,
 "nbformat_minor": 5
}
