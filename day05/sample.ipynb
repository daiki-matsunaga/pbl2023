{
 "cells": [
  {
   "cell_type": "code",
   "execution_count": null,
   "id": "387026d4",
   "metadata": {},
   "outputs": [],
   "source": [
    "import numpy as np\n",
    "import matplotlib.pyplot as plt\n",
    "\n",
    "numPoints = 100\n",
    "\n",
    "a = np.random.rand(numPoints)\n",
    "b = np.roll(a, 18)\n",
    "\n",
    "fig, ax = plt.subplots()\n",
    "\n",
    "ax.plot(a)\n",
    "ax.plot(b)\n",
    "\n",
    "plt.show()"
   ]
  },
  {
   "cell_type": "code",
   "execution_count": null,
   "id": "12fc4c0f",
   "metadata": {},
   "outputs": [],
   "source": [
    "va_mean = a.mean()\n",
    "va_std  = a.std()\n",
    "vb_mean = b.mean()\n",
    "vb_std  = b.std()\n",
    "\n",
    "maxDiff = numPoints\n",
    "correlSize = 2*(maxDiff - 1) + 1\n",
    "diffs = np.arange(- (maxDiff - 1), maxDiff)\n",
    "correlations = np.zeros([correlSize])\n",
    "counts = np.zeros([correlSize])\n",
    "\n",
    "# 相互相関の計算\n",
    "for i, ta in enumerate(a):\n",
    "    for j, tb in enumerate(b):\n",
    "        diff = j - i + (maxDiff - 1)\n",
    "        correlations[diff] += (ta - va_mean)*(tb - vb_mean)\n",
    "        counts[diff] += 1  \n",
    "\n",
    "# 相互相関をkey1の標準偏差*key2の標準偏差*足した回数で割る\n",
    "correlations /= va_std*vb_std*counts\n",
    "\n",
    "print('===== 相互相関：計算完了 ===== ')\n",
    "\n",
    "\n",
    "fig, ax = plt.subplots()\n",
    "ax.plot(diffs, correlations)\n",
    "ax.set_xlim([-30, 30])\n",
    "\n",
    "plt.show()"
   ]
  }
 ],
 "metadata": {
  "kernelspec": {
   "display_name": "Python 3 (ipykernel)",
   "language": "python",
   "name": "python3"
  },
  "language_info": {
   "codemirror_mode": {
    "name": "ipython",
    "version": 3
   },
   "file_extension": ".py",
   "mimetype": "text/x-python",
   "name": "python",
   "nbconvert_exporter": "python",
   "pygments_lexer": "ipython3",
   "version": "3.10.6"
  }
 },
 "nbformat": 4,
 "nbformat_minor": 5
}
