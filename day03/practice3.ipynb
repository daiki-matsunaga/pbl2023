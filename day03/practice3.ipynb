{
 "cells": [
  {
   "cell_type": "markdown",
   "metadata": {},
   "source": [
    "## **本ノートブックの内容**\n",
    "\n",
    "- 感染者データの取得・テーブル作成\n",
    "- ヒストグラムの作成\n",
    "- groupbyによるデータのグループ化\n",
    "- 相関係数の算出\n"
   ]
  },
  {
   "cell_type": "code",
   "execution_count": null,
   "metadata": {},
   "outputs": [],
   "source": [
    "# モジュールのimport\n",
    "import json\n",
    "import matplotlib.pyplot as plt\n",
    "import numpy as np\n",
    "import pandas as pd\n",
    "import datetime as dt\n",
    "import matplotlib.dates as mdate\n",
    "\n",
    "pd.set_option('display.max_columns', None) # pandasオプション：列データを全て表示\n",
    "\n",
    "# データフレームdfにOur World in Dataのデータを読み込む\n",
    "df = pd.read_json(\"https://covid.ourworldindata.org/data/owid-covid-data.json\")\n",
    "df = df[df.columns.drop(list(df.filter(regex='OWID')))] # OWIDデータを除外\n",
    "\n",
    "df"
   ]
  },
  {
   "cell_type": "code",
   "execution_count": null,
   "metadata": {},
   "outputs": [],
   "source": [
    "# 難：日付データ\"data\"から新たなデータフレームを作成\n",
    "\n",
    "countries = df.columns # 列の国名コード\n",
    "date_keys = pd.DataFrame(df['USA']['data']).columns # dataに含まれるcolumn名（アメリカより取得）\n",
    "\n",
    "df2 = pd.DataFrame(columns = countries, index = date_keys) # index：感染情報，column：国名コードとなるdf2を作成する\n",
    "\n",
    "for column in countries:\n",
    "    for indexs in date_keys:\n",
    "        try:\n",
    "            df2[column][indexs] = df[column]['data'][-7][indexs] # 1週間前のデータがあれば格納\n",
    "        except LookupError:\n",
    "            df2[column][indexs] = 'NaN' # なければNaN（not-a-number）を格納\n",
    "\n",
    "# 型変換：objectをfloatへと変換\n",
    "dft  = df.T.apply(pd.to_numeric, errors='ignore')\n",
    "dft2 = df2.T.apply(pd.to_numeric, errors='coerce')\n",
    "            \n",
    "# 二つのデータフレームをマージ\n",
    "df_all = pd.concat([dft,dft2], axis=1)\n",
    "\n",
    "df_all # df_allの表示"
   ]
  },
  {
   "cell_type": "code",
   "execution_count": null,
   "metadata": {},
   "outputs": [],
   "source": [
    "df_all.info() # テーブルの概要を確認\n",
    "\n",
    "# 各columnの詳細情報は以下を確認すること\n",
    "# URL: https://github.com/owid/covid-19-data/tree/master/public/data"
   ]
  },
  {
   "cell_type": "code",
   "execution_count": null,
   "metadata": {},
   "outputs": [],
   "source": [
    "df_all.describe() # describeと付けると統計情報を確認することができる"
   ]
  },
  {
   "cell_type": "code",
   "execution_count": null,
   "metadata": {},
   "outputs": [],
   "source": [
    "# 具体的に特定の値を算出したいときは以下のようにアクセスできる\n",
    "print(df_all['population'].median(), df_all['population'].mean()) # 中央値，平均値\n",
    "print(df_all['population'].min(), df_all['population'].max()) # 最小値，最大値"
   ]
  },
  {
   "cell_type": "code",
   "execution_count": null,
   "metadata": {},
   "outputs": [],
   "source": [
    "# 最小値，最大値を取る行のindexを取得\n",
    "print(df_all['population'].idxmax())\n",
    "print(df_all['population'].idxmin())"
   ]
  },
  {
   "cell_type": "code",
   "execution_count": null,
   "metadata": {
    "tags": []
   },
   "outputs": [],
   "source": [
    "# histを用いるとヒストグラムを作成できる\n",
    "# bins: 区間（ビン）の数\n",
    "# density: 正規化あり\n",
    "df_all['median_age'].hist(bins=15, density=True)"
   ]
  },
  {
   "cell_type": "code",
   "execution_count": null,
   "metadata": {
    "tags": []
   },
   "outputs": [],
   "source": [
    "# 大陸ごとのデータを抽出\n",
    "df_asia = df_all[df_all['continent'] == 'Asia']\n",
    "df_oceania = df_all[df_all['continent'] == 'Oceania']\n",
    "\n",
    "# ヒストグラムを重ね合わせるには複数回 hist を書く\n",
    "# range: ヒストグラムを作成する範囲 [最小値，最大値]\n",
    "# alpha: ヒストグラムの透明度．重ね合わせるため透明度を上げて裏も見せるために必要\n",
    "ax = df_asia['median_age'].hist(bins=12, density=True, range=[10, 50], alpha=0.5, label='Asia')\n",
    "df_oceania['median_age'].hist(bins=12, density=True, range=[10, 50], alpha=0.5, label='Oceania')\n",
    "\n",
    "ax.legend() # 凡例の追加"
   ]
  },
  {
   "cell_type": "code",
   "execution_count": null,
   "metadata": {},
   "outputs": [],
   "source": [
    "# ヒストグラムを大陸毎に別々にグラフを作りたい場合\n",
    "# byを用いるとグループ毎にヒストグラムを作成\n",
    "# figsize: 図のサイズ指定\n",
    "\n",
    "df_all.hist(column='median_age', by=df_all['continent'], bins=10, range=[10, 50], density=True, figsize=(8, 8))"
   ]
  },
  {
   "cell_type": "code",
   "execution_count": null,
   "metadata": {
    "tags": []
   },
   "outputs": [],
   "source": [
    "# 2つのcolumnのデータに対する相関値の算出\n",
    "df_all[['population_density', 'total_cases_per_million']].corr()"
   ]
  },
  {
   "cell_type": "code",
   "execution_count": null,
   "metadata": {},
   "outputs": [],
   "source": [
    "# groupbyを用いると指定した列の情報でテーブルを分類できる\n",
    "# ここでは大陸（'continent'）を用いて情報を分類\n",
    "grouped = df_all.groupby('continent')\n",
    "\n",
    "# describeを用いて統計情報の閲覧\n",
    "grouped.describe()"
   ]
  },
  {
   "cell_type": "code",
   "execution_count": null,
   "metadata": {},
   "outputs": [],
   "source": [
    "# 特定の列について，グループ間で比較したい場合\n",
    "print(grouped['gdp_per_capita'].mean())\n",
    "\n",
    "# 特定の列について，図を用いて比較したい場合\n",
    "grouped['gdp_per_capita'].mean().plot.bar()"
   ]
  },
  {
   "cell_type": "code",
   "execution_count": null,
   "metadata": {},
   "outputs": [],
   "source": [
    "# annotateを使うと国名コードを表記できる\n",
    "\n",
    "# keyを2つ選択する\n",
    "key1 = 'population'\n",
    "key2 = 'total_deaths'\n",
    "\n",
    "# key1，key2について散布図を作成\n",
    "ax = df_all.plot.scatter(x=key1, y=key2, logx=True, logy=True)\n",
    "\n",
    "# df_allについてfor文\n",
    "for index, row in df_all.iterrows():\n",
    "    ax.annotate(index, (row[key1], row[key2])) # 座標(row[key1], row[key2])の位置に国名コードであるindexを表示\n",
    "    \n",
    "    # 詳しく知りたい人へ（読み飛ばしても可）\n",
    "    # index: 行のindexを格納．この場合は国名コードであるアルファベット3文字\n",
    "    # row: ある行の全ての情報が格納．例えばrow['population']とすると，その行の人口を取得．\n",
    "    # 各行へのアクセスをfor文により実現している"
   ]
  },
  {
   "cell_type": "code",
   "execution_count": null,
   "metadata": {
    "tags": []
   },
   "outputs": [],
   "source": [
    "# 難：大陸毎に色をつけた散布図\n",
    "\n",
    "# 図のテンプレートを準備\n",
    "fig, ax = plt.subplots()\n",
    "ax.set_xscale('log')\n",
    "ax.set_yscale('log')\n",
    "\n",
    "# 横軸・縦軸の項目指定\n",
    "key1 = 'gdp_per_capita'\n",
    "key2 = 'aged_70_older'\n",
    "\n",
    "# 色指定：Matpolotlibの標準色を採用; 辞書型\n",
    "colors = {'Africa':'#1f77b4', 'Asia':'#ff7f0e', 'Europe':'#2ca02c', 'North America':'#d62728', 'Oceania':'#9467bd', 'South America':'#8c564b'}\n",
    "\n",
    "# for文により大陸毎の散布図をループ\n",
    "for key, group in grouped:\n",
    "    group.plot.scatter(x=key1, y=key2, ax=ax, label=key, color=colors[key])\n",
    "    \n",
    "    # 詳しく知りたい人へ（読み飛ばしても可）\n",
    "    # grouped: groupbyを用いて作成したグループ後のデータ．for文に用いる\n",
    "    # key: groupbyで用いた分類名．ここでは大陸名\n",
    "    # group: groupbyで分類された後のデータ．ここでは大陸毎のデータ\n",
    "    # for文により各大陸のデータをループする"
   ]
  },
  {
   "cell_type": "markdown",
   "metadata": {},
   "source": [
    "#### **Q3-1**． 100万人当たりの感染者数（total_cases_per_million）が最も多い国名と，その値を表示せよ"
   ]
  },
  {
   "cell_type": "code",
   "execution_count": null,
   "metadata": {
    "tags": []
   },
   "outputs": [],
   "source": [
    "# A3-1\n"
   ]
  },
  {
   "cell_type": "markdown",
   "metadata": {},
   "source": [
    "#### **Q3-2**． 日本の100万人当たりの感染者数（total_cases_per_million）を表示せよ．何人に一人感染しているか？"
   ]
  },
  {
   "cell_type": "code",
   "execution_count": null,
   "metadata": {
    "tags": []
   },
   "outputs": [],
   "source": [
    "# A3-2\n"
   ]
  },
  {
   "cell_type": "markdown",
   "metadata": {
    "tags": []
   },
   "source": [
    "#### **Q3-3**． テーブルを総感染者数（total_cases）でソートし，感染者数トップ5を確認せよ\n",
    "ヒント：降順にソートする場合は `df.sort_values('column名', ascending=False)`"
   ]
  },
  {
   "cell_type": "code",
   "execution_count": null,
   "metadata": {
    "tags": []
   },
   "outputs": [],
   "source": [
    "# A3-3\n"
   ]
  },
  {
   "cell_type": "markdown",
   "metadata": {
    "tags": []
   },
   "source": [
    "#### **Q3-4**． 100万人当たりの感染者数（total_cases_per_million）をヒストグラムにして表示せよ"
   ]
  },
  {
   "cell_type": "code",
   "execution_count": null,
   "metadata": {
    "tags": []
   },
   "outputs": [],
   "source": [
    "# A3-4\n"
   ]
  },
  {
   "cell_type": "markdown",
   "metadata": {},
   "source": [
    "#### **Q3-5**． 横軸に70歳以上の割合（aged_70_older），縦軸に100万人当たりの死者数（total_deaths_per_million）を取り，両対数グラフで表示せよ．人口構成に比して死亡率が高めの国はどこか．"
   ]
  },
  {
   "cell_type": "code",
   "execution_count": null,
   "metadata": {},
   "outputs": [],
   "source": [
    "# A3-5\n"
   ]
  },
  {
   "cell_type": "markdown",
   "metadata": {},
   "source": [
    "#### **Q3-6**． 前問3-5の2項目について，相関係数を算出せよ"
   ]
  },
  {
   "cell_type": "code",
   "execution_count": null,
   "metadata": {},
   "outputs": [],
   "source": [
    "# A3-6\n"
   ]
  },
  {
   "cell_type": "markdown",
   "metadata": {},
   "source": [
    "#### **Q3-7**． 100万人当たりの総感染者数について，アジア・北米・ヨーロッパの国々のヒストグラムを重ね合わせて比較せよ"
   ]
  },
  {
   "cell_type": "code",
   "execution_count": null,
   "metadata": {},
   "outputs": [],
   "source": [
    "# A3-7\n"
   ]
  },
  {
   "cell_type": "markdown",
   "metadata": {},
   "source": [
    "#### **Q3-8**． 100万人当たりの総感染者数について，最も多い・少ない大陸はどこか．数字およびグラフ表示により比較せよ"
   ]
  },
  {
   "cell_type": "code",
   "execution_count": null,
   "metadata": {},
   "outputs": [],
   "source": [
    "# A3-8\n"
   ]
  },
  {
   "cell_type": "markdown",
   "metadata": {},
   "source": [
    "#### **Q3-9**． 横軸に総人口（population），縦軸に100万人当たりの総感染者数（total_cases_per_million）を取り，両対数グラフで表示せよ．大陸毎に違う色で可視化したときに，大陸毎に見られる傾向を分析せよ"
   ]
  },
  {
   "cell_type": "code",
   "execution_count": null,
   "metadata": {},
   "outputs": [],
   "source": [
    "# A3-9\n"
   ]
  },
  {
   "cell_type": "markdown",
   "metadata": {},
   "source": [
    "#### **Q3-10**． 難：WHO・国連の定義より，65歳以上の人口（老年人口）の割合が7%を超えると「高齢化社会（aging society）」，14%を超えると「高齢社会（aged society）」，21%を超えると「超高齢化社会（super aging society）」と呼ぶ．以下に答えよ．\n",
    "A. 難：4つのカテゴリ（超高齢化社会・高齢社会・高齢化社会・その他）に分類される国の数を答えよ  \n",
    "ヒント1：論理和が必要となる  \n",
    "ヒント2：groupbyを使った方法もできますが，難しいので今回は使わない方法を採用すること  \n",
    "B. 超高齢化社会に属する国を列挙せよ  \n",
    "C. 4つのカテゴリにおける100万人当たりの総感染者数の平均値を算出し比較せよ  \n",
    "D. 難：4つのカテゴリを色分けして上で，横軸に一人当たりの国内総生産，縦軸に100万人当たりの総感染者数を示せ\n",
    "ヒント：上のテクニックを組み合わせると可能  "
   ]
  },
  {
   "cell_type": "code",
   "execution_count": null,
   "metadata": {},
   "outputs": [],
   "source": [
    "# A3-10\n"
   ]
  }
 ],
 "metadata": {
  "kernelspec": {
   "display_name": "Python 3 (ipykernel)",
   "language": "python",
   "name": "python3"
  },
  "language_info": {
   "codemirror_mode": {
    "name": "ipython",
    "version": 3
   },
   "file_extension": ".py",
   "mimetype": "text/x-python",
   "name": "python",
   "nbconvert_exporter": "python",
   "pygments_lexer": "ipython3",
   "version": "3.10.10"
  }
 },
 "nbformat": 4,
 "nbformat_minor": 4
}
